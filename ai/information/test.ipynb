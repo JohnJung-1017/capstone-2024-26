{
 "cells": [
  {
   "cell_type": "code",
   "execution_count": 1,
   "metadata": {},
   "outputs": [
    {
     "name": "stderr",
     "output_type": "stream",
     "text": [
      "c:\\Users\\whstk\\anaconda3\\envs\\torch38\\lib\\site-packages\\transformers\\utils\\generic.py:311: UserWarning: torch.utils._pytree._register_pytree_node is deprecated. Please use torch.utils._pytree.register_pytree_node instead.\n",
      "  torch.utils._pytree._register_pytree_node(\n"
     ]
    },
    {
     "data": {
      "application/vnd.jupyter.widget-view+json": {
       "model_id": "078e5e75c1e24cc6830168cd98f5d122",
       "version_major": 2,
       "version_minor": 0
      },
      "text/plain": [
       "config.json:   0%|          | 0.00/4.13k [00:00<?, ?B/s]"
      ]
     },
     "metadata": {},
     "output_type": "display_data"
    },
    {
     "data": {
      "application/vnd.jupyter.widget-view+json": {
       "model_id": "5a25c99406bd47d8b44863409aa6a69f",
       "version_major": 2,
       "version_minor": 0
      },
      "text/plain": [
       "model.safetensors:   0%|          | 0.00/26.0M [00:00<?, ?B/s]"
      ]
     },
     "metadata": {},
     "output_type": "display_data"
    },
    {
     "data": {
      "application/vnd.jupyter.widget-view+json": {
       "model_id": "3b480e8c9dba4d519c6c7abbe10786d3",
       "version_major": 2,
       "version_minor": 0
      },
      "text/plain": [
       "preprocessor_config.json:   0%|          | 0.00/291 [00:00<?, ?B/s]"
      ]
     },
     "metadata": {},
     "output_type": "display_data"
    },
    {
     "name": "stdout",
     "output_type": "stream",
     "text": [
      "Detected chair with confidence 0.951 at location [379.76, 248.61, 488.55, 394.71]\n",
      "Detected person with confidence 0.949 at location [253.78, 185.62, 353.87, 343.16]\n",
      "Detected person with confidence 0.972 at location [187.64, 178.14, 274.6, 334.71]\n",
      "Detected chair with confidence 0.95 at location [155.28, 234.54, 250.14, 367.41]\n",
      "Detected chair with confidence 0.921 at location [13.01, 190.54, 61.06, 247.35]\n",
      "Detected person with confidence 0.915 at location [184.01, 159.0, 207.36, 194.25]\n",
      "Detected person with confidence 0.941 at location [207.04, 157.47, 238.15, 194.78]\n",
      "Detected person with confidence 0.951 at location [476.93, 168.91, 521.92, 222.25]\n",
      "Detected chair with confidence 0.94 at location [438.43, 210.66, 483.35, 260.46]\n"
     ]
    }
   ],
   "source": [
    "from transformers import YolosImageProcessor, YolosForObjectDetection\n",
    "from PIL import Image\n",
    "import torch\n",
    "import requests\n",
    "\n",
    "url = \"https://images.chosun.com/resizer/SuTI7e2cElrCYzHq_x_jcEiB2NA=/616x0/smart/cloudfront-ap-northeast-1.images.arcpublishing.com/chosun/C22V7RSD2RFLRE5N6LBHIDLC6Y.jpg\"\n",
    "image = Image.open(requests.get(url, stream=True).raw)\n",
    "\n",
    "model = YolosForObjectDetection.from_pretrained('hustvl/yolos-tiny')\n",
    "image_processor = YolosImageProcessor.from_pretrained(\"hustvl/yolos-tiny\")\n",
    "\n",
    "inputs = image_processor(images=image, return_tensors=\"pt\")\n",
    "outputs = model(**inputs)\n",
    "\n",
    "# model predicts bounding boxes and corresponding COCO classes\n",
    "logits = outputs.logits\n",
    "bboxes = outputs.pred_boxes\n",
    "\n",
    "\n",
    "# print results\n",
    "target_sizes = torch.tensor([image.size[::-1]])\n",
    "results = image_processor.post_process_object_detection(outputs, threshold=0.9, target_sizes=target_sizes)[0]\n",
    "for score, label, box in zip(results[\"scores\"], results[\"labels\"], results[\"boxes\"]):\n",
    "    box = [round(i, 2) for i in box.tolist()]\n",
    "    print(\n",
    "        f\"Detected {model.config.id2label[label.item()]} with confidence \"\n",
    "        f\"{round(score.item(), 3)} at location {box}\"\n",
    "    )"
   ]
  },
  {
   "cell_type": "code",
   "execution_count": 7,
   "metadata": {},
   "outputs": [],
   "source": [
    "from transformers import YolosImageProcessor, YolosForObjectDetection\n",
    "from PIL import Image, ImageDraw\n",
    "import torch\n",
    "\n",
    "# 로컬 파일에서 이미지를 로드합니다.\n",
    "image_path = './office_image/21.jpg'\n",
    "image = Image.open(image_path)\n",
    "\n",
    "# 모델을 로드합니다.\n",
    "model = YolosForObjectDetection.from_pretrained('hustvl/yolos-tiny')\n",
    "image_processor = YolosImageProcessor.from_pretrained(\"hustvl/yolos-tiny\")\n",
    "\n",
    "# 이미지를 처리합니다.\n",
    "inputs = image_processor(images=image, return_tensors=\"pt\")\n",
    "outputs = model(**inputs)\n",
    "\n",
    "# 결과를 후처리합니다.\n",
    "target_sizes = torch.tensor([image.size[::-1]])\n",
    "results = image_processor.post_process_object_detection(outputs, threshold=0.9, target_sizes=target_sizes)[0]\n",
    "\n",
    "# 이미지에 박스를 그립니다.\n",
    "draw = ImageDraw.Draw(image)\n",
    "for score, label, box in zip(results[\"scores\"], results[\"labels\"], results[\"boxes\"]):\n",
    "    if score.item() >= 0.80:\n",
    "        label_name = model.config.id2label[label.item()]\n",
    "        if label_name in [\"dining table\", \"person\"]:\n",
    "            box = [round(i, 2) for i in box.tolist()]\n",
    "            draw.rectangle(box, outline=\"red\", width=3)\n",
    "            draw.text((box[0], box[1]), f\"{model.config.id2label[label.item()]}: {round(score.item(), 3)}\", fill=\"red\")\n",
    "\n",
    "# 수정된 이미지를 보여줍니다.\n",
    "image.show()\n"
   ]
  },
  {
   "cell_type": "code",
   "execution_count": 5,
   "metadata": {},
   "outputs": [
    {
     "name": "stdout",
     "output_type": "stream",
     "text": [
      "Detected 3 diningtable(s)\n",
      "Detected 8 person(s)\n"
     ]
    }
   ],
   "source": [
    "from transformers import YolosImageProcessor, YolosForObjectDetection\n",
    "from PIL import Image\n",
    "import torch\n",
    "\n",
    "# 로컬 파일에서 이미지를 로드합니다.\n",
    "image_path = './office_image/21.jpg'\n",
    "image = Image.open(image_path)\n",
    "\n",
    "# 모델을 로드합니다.\n",
    "model = YolosForObjectDetection.from_pretrained('hustvl/yolos-tiny')\n",
    "image_processor = YolosImageProcessor.from_pretrained(\"hustvl/yolos-tiny\")\n",
    "\n",
    "# 이미지를 처리합니다.\n",
    "inputs = image_processor(images=image, return_tensors=\"pt\")\n",
    "outputs = model(**inputs)\n",
    "\n",
    "# 결과를 후처리합니다.\n",
    "target_sizes = torch.tensor([image.size[::-1]])\n",
    "results = image_processor.post_process_object_detection(outputs, threshold=0.9, target_sizes=target_sizes)[0]\n",
    "\n",
    "# 각 객체의 개수를 계산합니다.\n",
    "diningtable_count = sum(label.item() == model.config.label2id['dining table'] for label in results[\"labels\"])\n",
    "person_count = sum(label.item() == model.config.label2id['person'] for label in results[\"labels\"])\n",
    "\n",
    "# 결과를 출력합니다.\n",
    "print(f\"Detected {diningtable_count} diningtable(s)\")\n",
    "print(f\"Detected {person_count} person(s)\")\n"
   ]
  },
  {
   "cell_type": "code",
   "execution_count": 17,
   "metadata": {},
   "outputs": [
    {
     "name": "stdout",
     "output_type": "stream",
     "text": [
      "Detected 7 person(s)\n"
     ]
    }
   ],
   "source": [
    "from transformers import AutoImageProcessor, AutoModelForObjectDetection\n",
    "import torch\n",
    "from PIL import Image, ImageDraw\n",
    "\n",
    "# 로컬 파일에서 이미지를 로드합니다.\n",
    "image_path = './office_image/21.jpg'\n",
    "image = Image.open(image_path)\n",
    "\n",
    "# 모델과 이미지 프로세서를 로드합니다.\n",
    "image_processor = AutoImageProcessor.from_pretrained(\"AdamCodd/yolos-small-person\")\n",
    "model = AutoModelForObjectDetection.from_pretrained(\"AdamCodd/yolos-small-person\")\n",
    "\n",
    "# 이미지를 처리합니다.\n",
    "inputs = image_processor(images=image, return_tensors=\"pt\")\n",
    "outputs = model(**inputs)\n",
    "\n",
    "# 결과를 후처리합니다.\n",
    "target_sizes = torch.tensor([image.size[::-1]])\n",
    "results = image_processor.post_process_object_detection(outputs, threshold=0.7, target_sizes=target_sizes)[0]\n",
    "\n",
    "# 이미지에 박스를 그리고 사람 수를 세기\n",
    "draw = ImageDraw.Draw(image)\n",
    "person_count = 0\n",
    "for score, label, box in zip(results[\"scores\"], results[\"labels\"], results[\"boxes\"]):\n",
    "    if score.item() >= 0.50:\n",
    "        box = [round(i, 2) for i in box.tolist()]\n",
    "        if model.config.id2label[label.item()] == 'person':\n",
    "            person_count += 1\n",
    "            draw.rectangle(box, outline=\"red\", width=3)\n",
    "            draw.text((box[0], box[1]), f\"Confidence: {round(score.item(), 3)}\", fill=\"red\")\n",
    "\n",
    "# 결과 이미지를 보여줍니다.\n",
    "image.show()\n",
    "\n",
    "# 검출된 사람 수를 출력합니다.\n",
    "print(f\"Detected {person_count} person(s)\")\n"
   ]
  },
  {
   "cell_type": "code",
   "execution_count": 21,
   "metadata": {},
   "outputs": [
    {
     "name": "stdout",
     "output_type": "stream",
     "text": [
      "Estimated number of people: 78.76\n"
     ]
    },
    {
     "data": {
      "image/png": "[encoded data removed]",
      "text/plain": [
       "<Figure size 640x480 with 2 Axes>"
      ]
     },
     "metadata": {},
     "output_type": "display_data"
    }
   ],
   "source": [
    "import torch\n",
    "import torch.nn as nn\n",
    "from torchvision import transforms\n",
    "from PIL import Image\n",
    "import matplotlib.pyplot as plt\n",
    "\n",
    "class CSRNet(nn.Module):\n",
    "    def __init__(self):\n",
    "        super(CSRNet, self).__init__()\n",
    "        self.frontend_feat = [64, 64, 'M', 128, 128, 'M', 256, 256, 256, 'M', 512, 512, 512]\n",
    "        self.backend_feat = [512, 512, 512, 256, 128, 64]\n",
    "        self.frontend = make_layers(self.frontend_feat)\n",
    "        self.backend = make_layers(self.backend_feat, in_channels=512, dilation=True)\n",
    "        self.output_layer = nn.Conv2d(64, 1, kernel_size=1)\n",
    "\n",
    "    def forward(self, x):\n",
    "        x = self.frontend(x)\n",
    "        x = self.backend(x)\n",
    "        x = self.output_layer(x)\n",
    "        return x\n",
    "\n",
    "def make_layers(cfg, in_channels = 3, batch_norm=False, dilation = False):\n",
    "    if dilation:\n",
    "        d_rate = 2\n",
    "    else:\n",
    "        d_rate = 1\n",
    "    layers = []\n",
    "    for v in cfg:\n",
    "        if v == 'M':\n",
    "            layers += [nn.MaxPool2d(kernel_size=2, stride=2)]\n",
    "        else:\n",
    "            conv2d = nn.Conv2d(in_channels, v, kernel_size=3, padding=d_rate, dilation=d_rate)\n",
    "            if batch_norm:\n",
    "                layers += [conv2d, nn.BatchNorm2d(v), nn.ReLU(inplace=True)]\n",
    "            else:\n",
    "                layers += [conv2d, nn.ReLU(inplace=True)]\n",
    "            in_channels = v\n",
    "    return nn.Sequential(*layers)\n",
    "\n",
    "\n",
    "# 모델 로드\n",
    "# model_path = './model.pt'  # CSRNet 모델 파일 경로\n",
    "# model = torch.load(model_path)\n",
    "# model.eval()  # 모델을 평가 모드로 설정\n",
    "model = CSRNet()\n",
    "model_weights = torch.load('./model.pt')\n",
    "model.load_state_dict(model_weights)\n",
    "model.eval()\n",
    "# 이미지를 처리할 트랜스폼 설정\n",
    "transform = transforms.Compose([\n",
    "    transforms.Resize((768, 1024)),  # CSRNet 트레이닝에 사용된 입력 크기로 조정\n",
    "    transforms.ToTensor(),\n",
    "    transforms.Normalize(mean=[0.485, 0.456, 0.406], std=[0.229, 0.224, 0.225])\n",
    "])\n",
    "\n",
    "# 이미지 로드 및 변환\n",
    "image_path = './office_image/19.jpg'  # 테스트할 이미지 경로\n",
    "image = Image.open(image_path).convert('RGB')\n",
    "input_tensor = transform(image).unsqueeze(0)  # 배치 차원 추가\n",
    "\n",
    "# 모델을 사용한 밀도 맵 추정\n",
    "with torch.no_grad():\n",
    "    output = model(input_tensor)\n",
    "\n",
    "# 결과 출력\n",
    "predicted_density_map = output.squeeze(0).squeeze(0)  # 결과 텐서 차원 감소\n",
    "print(f\"Estimated number of people: {predicted_density_map.sum().item():.2f}\")  # 전체 사람 수 추정\n",
    "\n",
    "# 밀도 맵 시각화\n",
    "plt.imshow(predicted_density_map.numpy(), cmap='jet')\n",
    "plt.colorbar()  # 밀도 값의 색상 막대 표시\n",
    "plt.show()\n"
   ]
  }
 ],
 "metadata": {
  "kernelspec": {
   "display_name": "torch38",
   "language": "python",
   "name": "python3"
  },
  "language_info": {
   "codemirror_mode": {
    "name": "ipython",
    "version": 3
   },
   "file_extension": ".py",
   "mimetype": "text/x-python",
   "name": "python",
   "nbconvert_exporter": "python",
   "pygments_lexer": "ipython3",
   "version": "3.8.5"
  }
 },
 "nbformat": 4,
 "nbformat_minor": 2
}
