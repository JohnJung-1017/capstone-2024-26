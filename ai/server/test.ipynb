{
 "cells": [
  {
   "cell_type": "code",
   "execution_count": 2,
   "metadata": {},
   "outputs": [
    {
     "name": "stdout",
     "output_type": "stream",
     "text": [
      "JSON with base64-encoded image saved to output.json\n"
     ]
    }
   ],
   "source": [
    "import base64\n",
    "from PIL import Image\n",
    "import json\n",
    "import io\n",
    "\n",
    "# 이미지 파일 경로\n",
    "image_path = 'C:/Users/jhoon/capstone/capstone-2024-26/ai/information/office_image/20.jpg'\n",
    "\n",
    "# 이미지를 열고 RGB 모드로 변환합니다.\n",
    "with Image.open(image_path).convert(\"RGB\") as image:\n",
    "    # 이미지를 바이트 버퍼로 저장\n",
    "    buffered = io.BytesIO()\n",
    "    image.save(buffered, format=\"JPEG\")\n",
    "    # Base64 문자열로 인코딩\n",
    "    img_str = base64.b64encode(buffered.getvalue()).decode('utf-8')\n",
    "\n",
    "# JSON 데이터 생성\n",
    "data = {\n",
    "    \"image\": img_str,\n",
    "    \"info\": \"Example description of the image\"\n",
    "}\n",
    "\n",
    "# JSON 파일로 저장\n",
    "json_path = 'output.json'\n",
    "with open(json_path, 'w') as json_file:\n",
    "    json.dump(data, json_file)\n",
    "\n",
    "print(f\"JSON with base64-encoded image saved to {json_path}\")\n"
   ]
  }
 ],
 "metadata": {
  "kernelspec": {
   "display_name": "Python 3",
   "language": "python",
   "name": "python3"
  },
  "language_info": {
   "codemirror_mode": {
    "name": "ipython",
    "version": 3
   },
   "file_extension": ".py",
   "mimetype": "text/x-python",
   "name": "python",
   "nbconvert_exporter": "python",
   "pygments_lexer": "ipython3",
   "version": "3.8.8"
  }
 },
 "nbformat": 4,
 "nbformat_minor": 2
}
