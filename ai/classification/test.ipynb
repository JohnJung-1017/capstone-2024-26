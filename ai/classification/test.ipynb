{
 "cells": [
  {
   "cell_type": "code",
   "execution_count": 8,
   "metadata": {},
   "outputs": [
    {
     "name": "stdout",
     "output_type": "stream",
     "text": [
      "ResNet34 model saved.\n",
      "GoogleNet model saved.\n"
     ]
    },
    {
     "name": "stderr",
     "output_type": "stream",
     "text": [
      "c:\\Users\\whstk\\anaconda3\\envs\\torch38\\lib\\site-packages\\torchvision\\models\\googlenet.py:341: UserWarning: auxiliary heads in the pretrained googlenet model are NOT pretrained, so make sure to train them\n",
      "  warnings.warn(\n"
     ]
    }
   ],
   "source": [
    "# 임계치 값 만들 테스트 파일\n",
    "#이 세개 가지고 임계치 찾아보기\n",
    "import torch\n",
    "from torchvision import models\n",
    "\n",
    "resnet = models.resnet34()\n",
    "resnet.load_state_dict(torch.load('./ai/classification/resnet34.pth'))\n",
    "resnet.eval()\n",
    "\n",
    "inception = models.googlenet()\n",
    "inception.load_state_dict(torch.load('./ai/classification/googlenet.pth'))\n",
    "inception.eval()\n",
    "\n",
    "vit = timm.create_model('deit_tiny_patch16_224', pretrained=True)\n",
    "vit.load_state_dict(torch.load('./ai/classification/deit_tiny.pth'))\n",
    "vit.eval()\n"
   ]
  },
  {
   "cell_type": "code",
   "execution_count": 7,
   "metadata": {},
   "outputs": [
    {
     "data": {
      "application/vnd.jupyter.widget-view+json": {
       "model_id": "3b5310775a2c40ef9deb0b8aa0eaa14d",
       "version_major": 2,
       "version_minor": 0
      },
      "text/plain": [
       "model.safetensors:   0%|          | 0.00/22.9M [00:00<?, ?B/s]"
      ]
     },
     "metadata": {},
     "output_type": "display_data"
    },
    {
     "name": "stdout",
     "output_type": "stream",
     "text": [
      "DeiT-Tiny model saved.\n"
     ]
    }
   ],
   "source": [
    "import torch\n",
    "import timm\n",
    "\n",
    "# DeiT-Tiny 모델 다운로드 및 로컬 저장\n",
    "deit_tiny = timm.create_model('deit_tiny_patch16_224', pretrained=True)\n",
    "torch.save(deit_tiny.state_dict(), 'deit_tiny.pth')\n",
    "print(\"DeiT-Tiny model saved.\")\n"
   ]
  }
 ],
 "metadata": {
  "kernelspec": {
   "display_name": "torch38",
   "language": "python",
   "name": "python3"
  },
  "language_info": {
   "codemirror_mode": {
    "name": "ipython",
    "version": 3
   },
   "file_extension": ".py",
   "mimetype": "text/x-python",
   "name": "python",
   "nbconvert_exporter": "python",
   "pygments_lexer": "ipython3",
   "version": "3.8.5"
  }
 },
 "nbformat": 4,
 "nbformat_minor": 2
}
